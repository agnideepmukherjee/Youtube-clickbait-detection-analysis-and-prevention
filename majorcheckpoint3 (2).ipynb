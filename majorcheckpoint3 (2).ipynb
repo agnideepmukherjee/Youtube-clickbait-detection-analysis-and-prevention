{
 "cells": [
  {
   "cell_type": "code",
   "execution_count": null,
   "metadata": {
    "id": "tLaV1EURE_SC"
   },
   "outputs": [],
   "source": [
    "import pandas as pd\n",
    "import numpy as np\n",
    "import os"
   ]
  },
  {
   "cell_type": "markdown",
   "metadata": {
    "id": "zShUoelfBtAy"
   },
   "source": [
    "# Video Statistics Preprocessing"
   ]
  },
  {
   "cell_type": "code",
   "execution_count": null,
   "metadata": {
    "id": "u5L6j9afuUXr"
   },
   "outputs": [],
   "source": [
    "#Load data\n",
    "clickBait = pd.read_csv('/content/drive/MyDrive/DataCollection/clickbait.csv', error_bad_lines=False)\n",
    "notClickBait = pd.read_csv('/content/drive/MyDrive/DataCollection/notClickbait.csv', error_bad_lines=False)\n",
    "\n",
    "clickBaitImages = []\n",
    "nonClickBaitImages = []\n",
    "for image in os.listdir(\"/content/drive/MyDrive/DataCollection/isClickbait\"):\n",
    "  clickBaitImages.append(image)\n",
    "\n",
    "for image in os.listdir(\"/content/drive/MyDrive/DataCollection/notClickbait\"):\n",
    "  nonClickBaitImages.append(image)"
   ]
  },
  {
   "cell_type": "code",
   "execution_count": null,
   "metadata": {
    "id": "0mD9x7ldun8o"
   },
   "outputs": [],
   "source": [
    "#Initial Cleanup\n",
    "for like in clickBait[\"Likes\"]:\n",
    "  clickBait[\"Dislike-to-like-Ratio\"] = clickBait[\"Dislikes\"] / like\n",
    "\n",
    "for like in notClickBait[\"Likes\"]:\n",
    "  notClickBait[\"Dislike-to-like-Ratio\"] = notClickBait[\"Dislikes\"] / like\n",
    "\n",
    "del notClickBait[\"Favorites\"]\n",
    "del notClickBait[\"ID\"]\n",
    "del clickBait[\"Favorites\"]\n",
    "del clickBait[\"ID\"]\n",
    "\n",
    "clickBait[\"isClickBait\"] = 1\n",
    "notClickBait[\"isClickBait\"] = 0"
   ]
  },
  {
   "cell_type": "code",
   "execution_count": null,
   "metadata": {
    "colab": {
     "base_uri": "https://localhost:8080/",
     "height": 420
    },
    "executionInfo": {
     "elapsed": 15,
     "status": "ok",
     "timestamp": 1631891063022,
     "user": {
      "displayName": "Alex Zavalny",
      "photoUrl": "https://lh3.googleusercontent.com/a/default-user=s64",
      "userId": "17496189928974447005"
     },
     "user_tz": 240
    },
    "id": "RoMly03mwpFq",
    "outputId": "2d075849-3cd8-49e9-9d2d-3b1f3d6737ab"
   },
   "outputs": [
    {
     "data": {
      "text/html": [
       "<div>\n",
       "<style scoped>\n",
       "    .dataframe tbody tr th:only-of-type {\n",
       "        vertical-align: middle;\n",
       "    }\n",
       "\n",
       "    .dataframe tbody tr th {\n",
       "        vertical-align: top;\n",
       "    }\n",
       "\n",
       "    .dataframe thead th {\n",
       "        text-align: right;\n",
       "    }\n",
       "</style>\n",
       "<table border=\"1\" class=\"dataframe\">\n",
       "  <thead>\n",
       "    <tr style=\"text-align: right;\">\n",
       "      <th></th>\n",
       "      <th>Video Title</th>\n",
       "      <th>Views</th>\n",
       "      <th>Likes</th>\n",
       "      <th>Dislikes</th>\n",
       "      <th>Dislike-to-like-Ratio</th>\n",
       "      <th>isClickBait</th>\n",
       "    </tr>\n",
       "  </thead>\n",
       "  <tbody>\n",
       "    <tr>\n",
       "      <th>95</th>\n",
       "      <td>SHE IS PREGNANT!!</td>\n",
       "      <td>6021486</td>\n",
       "      <td>217166</td>\n",
       "      <td>4904</td>\n",
       "      <td>0.002575</td>\n",
       "      <td>1</td>\n",
       "    </tr>\n",
       "    <tr>\n",
       "      <th>15</th>\n",
       "      <td>BRENT AND I PRANK OUR MOM!!</td>\n",
       "      <td>15114182</td>\n",
       "      <td>375282</td>\n",
       "      <td>7265</td>\n",
       "      <td>0.003814</td>\n",
       "      <td>1</td>\n",
       "    </tr>\n",
       "    <tr>\n",
       "      <th>30</th>\n",
       "      <td>kid shoots dad after he takes PS5..</td>\n",
       "      <td>29079</td>\n",
       "      <td>2177</td>\n",
       "      <td>368</td>\n",
       "      <td>0.000193</td>\n",
       "      <td>1</td>\n",
       "    </tr>\n",
       "    <tr>\n",
       "      <th>57</th>\n",
       "      <td>DaBaby - Wockesha (Freestyle) [Official Video]</td>\n",
       "      <td>1823136</td>\n",
       "      <td>137724</td>\n",
       "      <td>3211</td>\n",
       "      <td>0.233970</td>\n",
       "      <td>0</td>\n",
       "    </tr>\n",
       "    <tr>\n",
       "      <th>27</th>\n",
       "      <td>Qualifying Highlights  2021 Dutch Grand Prix</td>\n",
       "      <td>3304392</td>\n",
       "      <td>81058</td>\n",
       "      <td>930</td>\n",
       "      <td>0.067765</td>\n",
       "      <td>0</td>\n",
       "    </tr>\n",
       "    <tr>\n",
       "      <th>...</th>\n",
       "      <td>...</td>\n",
       "      <td>...</td>\n",
       "      <td>...</td>\n",
       "      <td>...</td>\n",
       "      <td>...</td>\n",
       "      <td>...</td>\n",
       "    </tr>\n",
       "    <tr>\n",
       "      <th>5</th>\n",
       "      <td>Turning cotton balls into cotton candy</td>\n",
       "      <td>1609573</td>\n",
       "      <td>131024</td>\n",
       "      <td>704</td>\n",
       "      <td>0.051297</td>\n",
       "      <td>0</td>\n",
       "    </tr>\n",
       "    <tr>\n",
       "      <th>14</th>\n",
       "      <td>Cutting Peoples Earphones, Then Giving Them Ai...</td>\n",
       "      <td>43680379</td>\n",
       "      <td>1297208</td>\n",
       "      <td>40894</td>\n",
       "      <td>0.021471</td>\n",
       "      <td>1</td>\n",
       "    </tr>\n",
       "    <tr>\n",
       "      <th>92</th>\n",
       "      <td>DONT PLAY GTA 5 AT 3:00 AM.. (scary)</td>\n",
       "      <td>2974379</td>\n",
       "      <td>78932</td>\n",
       "      <td>10362</td>\n",
       "      <td>0.005440</td>\n",
       "      <td>1</td>\n",
       "    </tr>\n",
       "    <tr>\n",
       "      <th>78</th>\n",
       "      <td>OFFICIAL SCIENTIST Mod in Among Us</td>\n",
       "      <td>3607286</td>\n",
       "      <td>238848</td>\n",
       "      <td>3356</td>\n",
       "      <td>0.244535</td>\n",
       "      <td>0</td>\n",
       "    </tr>\n",
       "    <tr>\n",
       "      <th>1</th>\n",
       "      <td>APEX LEGENDS MAKES NO SENSE 3</td>\n",
       "      <td>338383</td>\n",
       "      <td>23061</td>\n",
       "      <td>277</td>\n",
       "      <td>0.020184</td>\n",
       "      <td>0</td>\n",
       "    </tr>\n",
       "  </tbody>\n",
       "</table>\n",
       "<p>201 rows × 6 columns</p>\n",
       "</div>"
      ],
      "text/plain": [
       "                                          Video Title  ...  isClickBait\n",
       "95                                  SHE IS PREGNANT!!  ...            1\n",
       "15                        BRENT AND I PRANK OUR MOM!!  ...            1\n",
       "30                kid shoots dad after he takes PS5..  ...            1\n",
       "57     DaBaby - Wockesha (Freestyle) [Official Video]  ...            0\n",
       "27       Qualifying Highlights  2021 Dutch Grand Prix  ...            0\n",
       "..                                                ...  ...          ...\n",
       "5              Turning cotton balls into cotton candy  ...            0\n",
       "14  Cutting Peoples Earphones, Then Giving Them Ai...  ...            1\n",
       "92               DONT PLAY GTA 5 AT 3:00 AM.. (scary)  ...            1\n",
       "78                 OFFICIAL SCIENTIST Mod in Among Us  ...            0\n",
       "1                       APEX LEGENDS MAKES NO SENSE 3  ...            0\n",
       "\n",
       "[201 rows x 6 columns]"
      ]
     },
     "execution_count": 5,
     "metadata": {},
     "output_type": "execute_result"
    }
   ],
   "source": [
    "# Combining the data\n",
    "data = pd.concat([clickBait, notClickBait])\n",
    "data.sample(frac=1, random_state=42) #shuffling"
   ]
  },
  {
   "cell_type": "code",
   "execution_count": null,
   "metadata": {
    "id": "eZBQLbqBy5Qm"
   },
   "outputs": [],
   "source": [
    "from sklearn.model_selection import train_test_split\n",
    "\n",
    "X_train, X_test, y_train, y_test = train_test_split(data, data[\"isClickBait\"], test_size=0.2)"
   ]
  },
  {
   "cell_type": "code",
   "execution_count": null,
   "metadata": {
    "colab": {
     "base_uri": "https://localhost:8080/"
    },
    "executionInfo": {
     "elapsed": 109,
     "status": "ok",
     "timestamp": 1631895251820,
     "user": {
      "displayName": "Alex Zavalny",
      "photoUrl": "https://lh3.googleusercontent.com/a/default-user=s64",
      "userId": "17496189928974447005"
     },
     "user_tz": 240
    },
    "id": "FcLjwN-nwfYO",
    "outputId": "40fc3853-4a72-457a-fe1c-e5160d31854a"
   },
   "outputs": [
    {
     "name": "stderr",
     "output_type": "stream",
     "text": [
      "/usr/local/lib/python3.7/dist-packages/pandas/core/frame.py:3069: SettingWithCopyWarning: \n",
      "A value is trying to be set on a copy of a slice from a DataFrame.\n",
      "Try using .loc[row_indexer,col_indexer] = value instead\n",
      "\n",
      "See the caveats in the documentation: https://pandas.pydata.org/pandas-docs/stable/user_guide/indexing.html#returning-a-view-versus-a-copy\n",
      "  self[k1] = value[k2]\n"
     ]
    }
   ],
   "source": [
    "from sklearn.preprocessing import StandardScaler\n",
    "\n",
    "stats = X_train[[\"Views\", \"Likes\", \"Dislikes\"]]\n",
    "scaler = StandardScaler()\n",
    "scaler.fit(stats)\n",
    "stats_scaled = pd.DataFrame(scaler.transform(stats))\n",
    "X_train[[\"Views\", \"Likes\", \"Dislikes\"]] = stats_scaled"
   ]
  },
  {
   "cell_type": "code",
   "execution_count": null,
   "metadata": {
    "colab": {
     "base_uri": "https://localhost:8080/",
     "height": 568
    },
    "executionInfo": {
     "elapsed": 160,
     "status": "ok",
     "timestamp": 1631895253639,
     "user": {
      "displayName": "Alex Zavalny",
      "photoUrl": "https://lh3.googleusercontent.com/a/default-user=s64",
      "userId": "17496189928974447005"
     },
     "user_tz": 240
    },
    "id": "vmQr9jaqRC6O",
    "outputId": "ac5b2e0f-e8ce-4595-89e3-18b5d6d5b64f"
   },
   "outputs": [
    {
     "name": "stderr",
     "output_type": "stream",
     "text": [
      "/usr/local/lib/python3.7/dist-packages/pandas/core/frame.py:3069: SettingWithCopyWarning: \n",
      "A value is trying to be set on a copy of a slice from a DataFrame.\n",
      "Try using .loc[row_indexer,col_indexer] = value instead\n",
      "\n",
      "See the caveats in the documentation: https://pandas.pydata.org/pandas-docs/stable/user_guide/indexing.html#returning-a-view-versus-a-copy\n",
      "  self[k1] = value[k2]\n",
      "/usr/local/lib/python3.7/dist-packages/pandas/core/frame.py:4327: SettingWithCopyWarning: \n",
      "A value is trying to be set on a copy of a slice from a DataFrame\n",
      "\n",
      "See the caveats in the documentation: https://pandas.pydata.org/pandas-docs/stable/user_guide/indexing.html#returning-a-view-versus-a-copy\n",
      "  downcast=downcast,\n"
     ]
    },
    {
     "data": {
      "text/html": [
       "<div>\n",
       "<style scoped>\n",
       "    .dataframe tbody tr th:only-of-type {\n",
       "        vertical-align: middle;\n",
       "    }\n",
       "\n",
       "    .dataframe tbody tr th {\n",
       "        vertical-align: top;\n",
       "    }\n",
       "\n",
       "    .dataframe thead th {\n",
       "        text-align: right;\n",
       "    }\n",
       "</style>\n",
       "<table border=\"1\" class=\"dataframe\">\n",
       "  <thead>\n",
       "    <tr style=\"text-align: right;\">\n",
       "      <th></th>\n",
       "      <th>Video Title</th>\n",
       "      <th>Views</th>\n",
       "      <th>Likes</th>\n",
       "      <th>Dislikes</th>\n",
       "      <th>Dislike-to-like-Ratio</th>\n",
       "      <th>isClickBait</th>\n",
       "    </tr>\n",
       "  </thead>\n",
       "  <tbody>\n",
       "    <tr>\n",
       "      <th>48</th>\n",
       "      <td>Inside Japan's WORST Hotel Room  Feat. @CDawgVA</td>\n",
       "      <td>0.000000</td>\n",
       "      <td>0.000000</td>\n",
       "      <td>0.000000</td>\n",
       "      <td>0.048528</td>\n",
       "      <td>0</td>\n",
       "    </tr>\n",
       "    <tr>\n",
       "      <th>57</th>\n",
       "      <td>SHARK ATTACK PRANK (WIFE FREAKOUT)</td>\n",
       "      <td>0.000000</td>\n",
       "      <td>0.000000</td>\n",
       "      <td>0.000000</td>\n",
       "      <td>0.019575</td>\n",
       "      <td>1</td>\n",
       "    </tr>\n",
       "    <tr>\n",
       "      <th>24</th>\n",
       "      <td>my girlfriend forgot to end her stream..</td>\n",
       "      <td>-0.584913</td>\n",
       "      <td>-0.336538</td>\n",
       "      <td>-0.311758</td>\n",
       "      <td>0.000138</td>\n",
       "      <td>1</td>\n",
       "    </tr>\n",
       "    <tr>\n",
       "      <th>31</th>\n",
       "      <td>i shouldn't have let him do this..</td>\n",
       "      <td>1.559676</td>\n",
       "      <td>0.014978</td>\n",
       "      <td>-0.200410</td>\n",
       "      <td>0.000035</td>\n",
       "      <td>1</td>\n",
       "    </tr>\n",
       "    <tr>\n",
       "      <th>81</th>\n",
       "      <td>10 Actors Who Turned Into Monsters</td>\n",
       "      <td>0.000000</td>\n",
       "      <td>0.000000</td>\n",
       "      <td>0.000000</td>\n",
       "      <td>0.027450</td>\n",
       "      <td>1</td>\n",
       "    </tr>\n",
       "    <tr>\n",
       "      <th>18</th>\n",
       "      <td>this video will make you forget your name..</td>\n",
       "      <td>-0.370385</td>\n",
       "      <td>-0.363224</td>\n",
       "      <td>-0.308975</td>\n",
       "      <td>0.001829</td>\n",
       "      <td>1</td>\n",
       "    </tr>\n",
       "    <tr>\n",
       "      <th>27</th>\n",
       "      <td>he fell off then died..</td>\n",
       "      <td>2.812748</td>\n",
       "      <td>-0.095973</td>\n",
       "      <td>0.341590</td>\n",
       "      <td>0.000287</td>\n",
       "      <td>1</td>\n",
       "    </tr>\n",
       "    <tr>\n",
       "      <th>58</th>\n",
       "      <td>I Flew To MrBeast's House &amp; Knocked On His Door</td>\n",
       "      <td>0.000000</td>\n",
       "      <td>0.000000</td>\n",
       "      <td>0.000000</td>\n",
       "      <td>0.077628</td>\n",
       "      <td>1</td>\n",
       "    </tr>\n",
       "    <tr>\n",
       "      <th>8</th>\n",
       "      <td>I Went Over Speed House And My Brothers Pulled...</td>\n",
       "      <td>-0.604287</td>\n",
       "      <td>-0.329286</td>\n",
       "      <td>-0.312727</td>\n",
       "      <td>0.000050</td>\n",
       "      <td>1</td>\n",
       "    </tr>\n",
       "    <tr>\n",
       "      <th>50</th>\n",
       "      <td>vegan eats MEAT for 24 hours...</td>\n",
       "      <td>0.000000</td>\n",
       "      <td>0.000000</td>\n",
       "      <td>0.000000</td>\n",
       "      <td>0.046561</td>\n",
       "      <td>0</td>\n",
       "    </tr>\n",
       "  </tbody>\n",
       "</table>\n",
       "</div>"
      ],
      "text/plain": [
       "                                          Video Title  ...  isClickBait\n",
       "48    Inside Japan's WORST Hotel Room  Feat. @CDawgVA  ...            0\n",
       "57                 SHARK ATTACK PRANK (WIFE FREAKOUT)  ...            1\n",
       "24           my girlfriend forgot to end her stream..  ...            1\n",
       "31                 i shouldn't have let him do this..  ...            1\n",
       "81                 10 Actors Who Turned Into Monsters  ...            1\n",
       "18        this video will make you forget your name..  ...            1\n",
       "27                            he fell off then died..  ...            1\n",
       "58    I Flew To MrBeast's House & Knocked On His Door  ...            1\n",
       "8   I Went Over Speed House And My Brothers Pulled...  ...            1\n",
       "50                    vegan eats MEAT for 24 hours...  ...            0\n",
       "\n",
       "[10 rows x 6 columns]"
      ]
     },
     "execution_count": 20,
     "metadata": {},
     "output_type": "execute_result"
    }
   ],
   "source": [
    "stats2 = X_test[[\"Views\", \"Likes\", \"Dislikes\"]]\n",
    "scaler2 = StandardScaler()\n",
    "scaler2.fit(stats2)\n",
    "stats_scaled = pd.DataFrame(scaler2.transform(stats2))\n",
    "X_test[[\"Views\", \"Likes\", \"Dislikes\"]] = stats_scaled\n",
    "X_test.fillna(0,inplace=True)\n",
    "X_test.head(10)"
   ]
  },
  {
   "cell_type": "markdown",
   "metadata": {
    "id": "9tfXHVvsBxDe"
   },
   "source": [
    "# ML Model Shortlisting"
   ]
  },
  {
   "cell_type": "code",
   "execution_count": null,
   "metadata": {
    "colab": {
     "base_uri": "https://localhost:8080/"
    },
    "executionInfo": {
     "elapsed": 266,
     "status": "ok",
     "timestamp": 1631896737774,
     "user": {
      "displayName": "Alex Zavalny",
      "photoUrl": "https://lh3.googleusercontent.com/a/default-user=s64",
      "userId": "17496189928974447005"
     },
     "user_tz": 240
    },
    "id": "ty4kKBq-BRcF",
    "outputId": "2a6011fe-2446-41df-9c06-39c4625b3d0e"
   },
   "outputs": [
    {
     "name": "stdout",
     "output_type": "stream",
     "text": [
      "0.8048780487804879\n",
      "0.7317073170731707\n",
      "0.4634146341463415\n",
      "0.7560975609756098\n",
      "0.5853658536585366\n",
      "0.6341463414634146\n"
     ]
    }
   ],
   "source": [
    "from sklearn.ensemble import RandomForestClassifier\n",
    "from sklearn.neighbors import KNeighborsClassifier\n",
    "from sklearn.svm import SVC\n",
    "import xgboost\n",
    "from sklearn.linear_model import LogisticRegression\n",
    "from sklearn.naive_bayes import GaussianNB\n",
    "from sklearn.metrics import accuracy_score\n",
    "\n",
    "rf = RandomForestClassifier()\n",
    "knn = KNeighborsClassifier(n_neighbors=5)\n",
    "svc = SVC()\n",
    "xgb = xgboost.XGBClassifier(use_label_encoder=False)\n",
    "log_reg = LogisticRegression()\n",
    "nb = GaussianNB()\n",
    "\n",
    "\n",
    "ml_models = [rf,knn,svc, xgb, log_reg, nb]\n",
    "for ml in ml_models:\n",
    "    ml.fit(X_train[[\"Views\", \"Likes\", \"Dislikes\", \"Dislike-to-like-Ratio\"]], y_train)\n",
    "    y_pred = ml.predict(X_test[[\"Views\", \"Likes\", \"Dislikes\", \"Dislike-to-like-Ratio\"]])\n",
    "    print(accuracy_score(y_pred,y_test))"
   ]
  },
  {
   "cell_type": "code",
   "execution_count": null,
   "metadata": {
    "colab": {
     "base_uri": "https://localhost:8080/"
    },
    "executionInfo": {
     "elapsed": 243,
     "status": "ok",
     "timestamp": 1631897970892,
     "user": {
      "displayName": "Alex Zavalny",
      "photoUrl": "https://lh3.googleusercontent.com/a/default-user=s64",
      "userId": "17496189928974447005"
     },
     "user_tz": 240
    },
    "id": "QVfQIOYUnRW8",
    "outputId": "4a4ec719-a417-4499-e0b0-7e1ceef319a2"
   },
   "outputs": [
    {
     "name": "stdout",
     "output_type": "stream",
     "text": [
      "0.7804878048780488\n"
     ]
    }
   ],
   "source": [
    "from sklearn.ensemble import VotingClassifier\n",
    "\n",
    "ens = VotingClassifier(estimators=[('rf', rf), ('knn', knn), ('xgb', xgb)], voting=\"soft\")\n",
    "ens.fit(X_train[[\"Views\", \"Likes\", \"Dislikes\", \"Dislike-to-like-Ratio\"]], y_train)\n",
    "pred = ens.predict(X_test[[\"Views\", \"Likes\", \"Dislikes\", \"Dislike-to-like-Ratio\"]])\n",
    "print(accuracy_score(pred, y_test))"
   ]
  },
  {
   "cell_type": "code",
   "execution_count": 47,
   "metadata": {
    "executionInfo": {
     "elapsed": 223,
     "status": "ok",
     "timestamp": 1631898563692,
     "user": {
      "displayName": "Alex Zavalny",
      "photoUrl": "https://lh3.googleusercontent.com/a/default-user=s64",
      "userId": "17496189928974447005"
     },
     "user_tz": 240
    },
    "id": "DNM1f-JGua7X"
   },
   "outputs": [],
   "source": [
    "import pickle\n",
    "\n",
    "pickle.dump(ens, open(\"Stats_Estimator_Ensemble.sav\", 'wb'))"
   ]
  }
 ],
 "metadata": {
  "colab": {
   "authorship_tag": "ABX9TyN8PWqHCgCAh5oonrPYflqJ",
   "collapsed_sections": [],
   "mount_file_id": "1NsQo2VhzoO_Jw-3OtvdARxrtD7ZImp3G",
   "name": "data_preprocessing_and_model_shortlist.ipynb",
   "provenance": []
  },
  "kernelspec": {
   "display_name": "Python 3 (ipykernel)",
   "language": "python",
   "name": "python3"
  },
  "language_info": {
   "codemirror_mode": {
    "name": "ipython",
    "version": 3
   },
   "file_extension": ".py",
   "mimetype": "text/x-python",
   "name": "python",
   "nbconvert_exporter": "python",
   "pygments_lexer": "ipython3",
   "version": "3.9.7"
  }
 },
 "nbformat": 4,
 "nbformat_minor": 1
}
